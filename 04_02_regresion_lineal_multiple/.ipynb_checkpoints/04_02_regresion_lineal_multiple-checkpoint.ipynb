{
 "cells": [
  {
   "cell_type": "code",
   "execution_count": 1,
   "metadata": {
    "tags": []
   },
   "outputs": [],
   "source": [
    "import pandas as pd\n",
    "from sklearn.linear_model import LinearRegression\n",
    "from sklearn.model_selection import train_test_split\n",
    "from sklearn import metrics\n",
    "import numpy as np"
   ]
  },
  {
   "cell_type": "code",
   "execution_count": 2,
   "metadata": {
    "tags": []
   },
   "outputs": [],
   "source": [
    "df = pd.read_csv('emisiones.csv', delimiter=\";\")"
   ]
  },
  {
   "cell_type": "code",
   "execution_count": 3,
   "metadata": {
    "tags": []
   },
   "outputs": [
    {
     "name": "stdout",
     "output_type": "stream",
     "text": [
      "<class 'pandas.core.frame.DataFrame'>\n",
      "RangeIndex: 91 entries, 0 to 90\n",
      "Data columns (total 6 columns):\n",
      " #   Column    Non-Null Count  Dtype  \n",
      "---  ------    --------------  -----  \n",
      " 0   Marca     91 non-null     object \n",
      " 1   Longitud  91 non-null     float64\n",
      " 2   Anchura   91 non-null     float64\n",
      " 3   Altura    91 non-null     float64\n",
      " 4   Maletero  91 non-null     int64  \n",
      " 5   CO2       91 non-null     int64  \n",
      "dtypes: float64(3), int64(2), object(1)\n",
      "memory usage: 4.4+ KB\n"
     ]
    }
   ],
   "source": [
    "df.info()"
   ]
  },
  {
   "cell_type": "code",
   "execution_count": 6,
   "metadata": {
    "tags": []
   },
   "outputs": [],
   "source": [
    "y = df[['CO2']]\n",
    "x = df[['Longitud', 'Anchura', 'Altura']]"
   ]
  },
  {
   "cell_type": "code",
   "execution_count": 7,
   "metadata": {
    "tags": []
   },
   "outputs": [
    {
     "data": {
      "text/html": [
       "<div>\n",
       "<style scoped>\n",
       "    .dataframe tbody tr th:only-of-type {\n",
       "        vertical-align: middle;\n",
       "    }\n",
       "\n",
       "    .dataframe tbody tr th {\n",
       "        vertical-align: top;\n",
       "    }\n",
       "\n",
       "    .dataframe thead th {\n",
       "        text-align: right;\n",
       "    }\n",
       "</style>\n",
       "<table border=\"1\" class=\"dataframe\">\n",
       "  <thead>\n",
       "    <tr style=\"text-align: right;\">\n",
       "      <th></th>\n",
       "      <th>Marca</th>\n",
       "      <th>Longitud</th>\n",
       "      <th>Anchura</th>\n",
       "      <th>Altura</th>\n",
       "      <th>Maletero</th>\n",
       "      <th>CO2</th>\n",
       "    </tr>\n",
       "  </thead>\n",
       "  <tbody>\n",
       "    <tr>\n",
       "      <th>0</th>\n",
       "      <td>Aero</td>\n",
       "      <td>4.495</td>\n",
       "      <td>1.840</td>\n",
       "      <td>1.540</td>\n",
       "      <td>320</td>\n",
       "      <td>294</td>\n",
       "    </tr>\n",
       "    <tr>\n",
       "      <th>1</th>\n",
       "      <td>Ality Auto</td>\n",
       "      <td>4.377</td>\n",
       "      <td>1.806</td>\n",
       "      <td>1.590</td>\n",
       "      <td>439</td>\n",
       "      <td>237</td>\n",
       "    </tr>\n",
       "    <tr>\n",
       "      <th>2</th>\n",
       "      <td>Amber</td>\n",
       "      <td>4.355</td>\n",
       "      <td>1.805</td>\n",
       "      <td>1.535</td>\n",
       "      <td>401</td>\n",
       "      <td>228</td>\n",
       "    </tr>\n",
       "    <tr>\n",
       "      <th>3</th>\n",
       "      <td>Ape Auto</td>\n",
       "      <td>3.698</td>\n",
       "      <td>1.720</td>\n",
       "      <td>1.484</td>\n",
       "      <td>170</td>\n",
       "      <td>207</td>\n",
       "    </tr>\n",
       "    <tr>\n",
       "      <th>4</th>\n",
       "      <td>Apex</td>\n",
       "      <td>4.535</td>\n",
       "      <td>1.770</td>\n",
       "      <td>1.480</td>\n",
       "      <td>624</td>\n",
       "      <td>327</td>\n",
       "    </tr>\n",
       "  </tbody>\n",
       "</table>\n",
       "</div>"
      ],
      "text/plain": [
       "        Marca  Longitud  Anchura  Altura  Maletero  CO2\n",
       "0        Aero     4.495    1.840   1.540       320  294\n",
       "1  Ality Auto     4.377    1.806   1.590       439  237\n",
       "2       Amber     4.355    1.805   1.535       401  228\n",
       "3    Ape Auto     3.698    1.720   1.484       170  207\n",
       "4        Apex     4.535    1.770   1.480       624  327"
      ]
     },
     "execution_count": 7,
     "metadata": {},
     "output_type": "execute_result"
    }
   ],
   "source": [
    "df.head()"
   ]
  },
  {
   "cell_type": "code",
   "execution_count": 8,
   "metadata": {
    "tags": []
   },
   "outputs": [],
   "source": [
    "x_train, x_test, y_train, y_test = train_test_split(x, y, test_size=0.20)"
   ]
  },
  {
   "cell_type": "code",
   "execution_count": 9,
   "metadata": {
    "tags": []
   },
   "outputs": [],
   "source": [
    "regresion_lineal = LinearRegression()"
   ]
  },
  {
   "cell_type": "code",
   "execution_count": 11,
   "metadata": {
    "tags": []
   },
   "outputs": [],
   "source": [
    "regresion_lineal.fit(x_train, y_train)\n",
    "y_pred = regresion_lineal.predict(x_test)"
   ]
  },
  {
   "cell_type": "code",
   "execution_count": 12,
   "metadata": {
    "tags": []
   },
   "outputs": [
    {
     "name": "stdout",
     "output_type": "stream",
     "text": [
      "Error absoluto medio: 26.458\n",
      "Error cuadratico medio: 1104.278\n",
      "Raiz del error cuadratico medio: 33.231\n"
     ]
    }
   ],
   "source": [
    "print('Error absoluto medio: {error:.3f}'.format(error=metrics.mean_absolute_error(y_test, y_pred)))\n",
    "print('Error cuadratico medio: {error:.3f}'.format(error=metrics.mean_squared_error(y_test, y_pred)))\n",
    "print('Raiz del error cuadratico medio: {error:.3f}'.format(error=np.sqrt(metrics.mean_squared_error(y_test, y_pred))))"
   ]
  }
 ],
 "metadata": {
  "kernelspec": {
   "display_name": "Python 3 (ipykernel)",
   "language": "python",
   "name": "python3"
  },
  "language_info": {
   "codemirror_mode": {
    "name": "ipython",
    "version": 3
   },
   "file_extension": ".py",
   "mimetype": "text/x-python",
   "name": "python",
   "nbconvert_exporter": "python",
   "pygments_lexer": "ipython3",
   "version": "3.11.2"
  },
  "vscode": {
   "interpreter": {
    "hash": "1ee38ef4a5a9feb55287fd749643f13d043cb0a7addaab2a9c224cbe137c0062"
   }
  }
 },
 "nbformat": 4,
 "nbformat_minor": 4
}
