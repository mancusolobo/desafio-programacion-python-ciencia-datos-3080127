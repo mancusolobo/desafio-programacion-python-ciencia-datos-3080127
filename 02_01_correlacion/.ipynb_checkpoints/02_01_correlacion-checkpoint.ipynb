{
 "cells": [
  {
   "cell_type": "code",
   "execution_count": 3,
   "metadata": {
    "tags": []
   },
   "outputs": [],
   "source": [
    "import pandas as pd\n",
    "import seaborn as sns"
   ]
  },
  {
   "cell_type": "code",
   "execution_count": 4,
   "metadata": {
    "tags": []
   },
   "outputs": [],
   "source": [
    "df = pd.read_csv('empleados.csv', delimiter=\";\")"
   ]
  },
  {
   "cell_type": "code",
   "execution_count": 5,
   "metadata": {
    "tags": []
   },
   "outputs": [
    {
     "data": {
      "text/html": [
       "<div>\n",
       "<style scoped>\n",
       "    .dataframe tbody tr th:only-of-type {\n",
       "        vertical-align: middle;\n",
       "    }\n",
       "\n",
       "    .dataframe tbody tr th {\n",
       "        vertical-align: top;\n",
       "    }\n",
       "\n",
       "    .dataframe thead th {\n",
       "        text-align: right;\n",
       "    }\n",
       "</style>\n",
       "<table border=\"1\" class=\"dataframe\">\n",
       "  <thead>\n",
       "    <tr style=\"text-align: right;\">\n",
       "      <th></th>\n",
       "      <th>Nombre</th>\n",
       "      <th>Sexo</th>\n",
       "      <th>Estado_Civil</th>\n",
       "      <th>Edad</th>\n",
       "      <th>Experiencia</th>\n",
       "      <th>Salario</th>\n",
       "      <th>Gerencia</th>\n",
       "      <th>Departamento</th>\n",
       "    </tr>\n",
       "  </thead>\n",
       "  <tbody>\n",
       "    <tr>\n",
       "      <th>0</th>\n",
       "      <td>Alexandro</td>\n",
       "      <td>Masculino</td>\n",
       "      <td>Soltero(a)</td>\n",
       "      <td>22</td>\n",
       "      <td>3</td>\n",
       "      <td>2423</td>\n",
       "      <td>No</td>\n",
       "      <td>Publicidad</td>\n",
       "    </tr>\n",
       "    <tr>\n",
       "      <th>1</th>\n",
       "      <td>Felipa</td>\n",
       "      <td>Femenino</td>\n",
       "      <td>Soltero(a)</td>\n",
       "      <td>26</td>\n",
       "      <td>5</td>\n",
       "      <td>2639</td>\n",
       "      <td>No</td>\n",
       "      <td>Comercial</td>\n",
       "    </tr>\n",
       "    <tr>\n",
       "      <th>2</th>\n",
       "      <td>Daniel</td>\n",
       "      <td>Masculino</td>\n",
       "      <td>Casado(a)</td>\n",
       "      <td>35</td>\n",
       "      <td>10</td>\n",
       "      <td>3122</td>\n",
       "      <td>No</td>\n",
       "      <td>Comercial</td>\n",
       "    </tr>\n",
       "    <tr>\n",
       "      <th>3</th>\n",
       "      <td>John</td>\n",
       "      <td>Masculino</td>\n",
       "      <td>Casado(a)</td>\n",
       "      <td>35</td>\n",
       "      <td>13</td>\n",
       "      <td>3431</td>\n",
       "      <td>Sí</td>\n",
       "      <td>Servicios al cliente</td>\n",
       "    </tr>\n",
       "    <tr>\n",
       "      <th>4</th>\n",
       "      <td>Ruperta</td>\n",
       "      <td>Femenino</td>\n",
       "      <td>Casado(a)</td>\n",
       "      <td>54</td>\n",
       "      <td>18</td>\n",
       "      <td>3962</td>\n",
       "      <td>No</td>\n",
       "      <td>Producto</td>\n",
       "    </tr>\n",
       "    <tr>\n",
       "      <th>5</th>\n",
       "      <td>Francisca</td>\n",
       "      <td>Femenino</td>\n",
       "      <td>Soltero(a)</td>\n",
       "      <td>27</td>\n",
       "      <td>4</td>\n",
       "      <td>2564</td>\n",
       "      <td>No</td>\n",
       "      <td>IT</td>\n",
       "    </tr>\n",
       "    <tr>\n",
       "      <th>6</th>\n",
       "      <td>Selena</td>\n",
       "      <td>Femenino</td>\n",
       "      <td>Casado(a)</td>\n",
       "      <td>24</td>\n",
       "      <td>6</td>\n",
       "      <td>2709</td>\n",
       "      <td>Sí</td>\n",
       "      <td>Contabilidad</td>\n",
       "    </tr>\n",
       "    <tr>\n",
       "      <th>7</th>\n",
       "      <td>Ximena</td>\n",
       "      <td>Femenino</td>\n",
       "      <td>Soltero(a)</td>\n",
       "      <td>58</td>\n",
       "      <td>24</td>\n",
       "      <td>4532</td>\n",
       "      <td>No</td>\n",
       "      <td>Legal</td>\n",
       "    </tr>\n",
       "    <tr>\n",
       "      <th>8</th>\n",
       "      <td>David</td>\n",
       "      <td>Masculino</td>\n",
       "      <td>Divorciado(a)</td>\n",
       "      <td>20</td>\n",
       "      <td>1</td>\n",
       "      <td>1977</td>\n",
       "      <td>No</td>\n",
       "      <td>Recursos Humanos</td>\n",
       "    </tr>\n",
       "    <tr>\n",
       "      <th>9</th>\n",
       "      <td>Max</td>\n",
       "      <td>Masculino</td>\n",
       "      <td>Divorciado(a)</td>\n",
       "      <td>39</td>\n",
       "      <td>8</td>\n",
       "      <td>2953</td>\n",
       "      <td>No</td>\n",
       "      <td>Ventas</td>\n",
       "    </tr>\n",
       "    <tr>\n",
       "      <th>10</th>\n",
       "      <td>Paula</td>\n",
       "      <td>Femenino</td>\n",
       "      <td>Divorciado(a)</td>\n",
       "      <td>55</td>\n",
       "      <td>12</td>\n",
       "      <td>3306</td>\n",
       "      <td>No</td>\n",
       "      <td>Producto</td>\n",
       "    </tr>\n",
       "    <tr>\n",
       "      <th>11</th>\n",
       "      <td>Tim</td>\n",
       "      <td>Masculino</td>\n",
       "      <td>Divorciado(a)</td>\n",
       "      <td>22</td>\n",
       "      <td>4</td>\n",
       "      <td>2518</td>\n",
       "      <td>No</td>\n",
       "      <td>Recursos Humanos</td>\n",
       "    </tr>\n",
       "    <tr>\n",
       "      <th>12</th>\n",
       "      <td>Gloria</td>\n",
       "      <td>Femenino</td>\n",
       "      <td>Casado(a)</td>\n",
       "      <td>31</td>\n",
       "      <td>11</td>\n",
       "      <td>3267</td>\n",
       "      <td>No</td>\n",
       "      <td>Servicios al cliente</td>\n",
       "    </tr>\n",
       "    <tr>\n",
       "      <th>13</th>\n",
       "      <td>Jesse</td>\n",
       "      <td>Masculino</td>\n",
       "      <td>Soltero(a)</td>\n",
       "      <td>34</td>\n",
       "      <td>11</td>\n",
       "      <td>3257</td>\n",
       "      <td>No</td>\n",
       "      <td>Publicidad</td>\n",
       "    </tr>\n",
       "    <tr>\n",
       "      <th>14</th>\n",
       "      <td>Ronald</td>\n",
       "      <td>Masculino</td>\n",
       "      <td>Soltero(a)</td>\n",
       "      <td>23</td>\n",
       "      <td>5</td>\n",
       "      <td>2695</td>\n",
       "      <td>No</td>\n",
       "      <td>Servicios al cliente</td>\n",
       "    </tr>\n",
       "    <tr>\n",
       "      <th>15</th>\n",
       "      <td>Manola</td>\n",
       "      <td>Femenino</td>\n",
       "      <td>Soltero(a)</td>\n",
       "      <td>40</td>\n",
       "      <td>9</td>\n",
       "      <td>3023</td>\n",
       "      <td>No</td>\n",
       "      <td>IT</td>\n",
       "    </tr>\n",
       "    <tr>\n",
       "      <th>16</th>\n",
       "      <td>Isabela</td>\n",
       "      <td>Femenino</td>\n",
       "      <td>Casado(a)</td>\n",
       "      <td>66</td>\n",
       "      <td>12</td>\n",
       "      <td>3344</td>\n",
       "      <td>No</td>\n",
       "      <td>Contabilidad</td>\n",
       "    </tr>\n",
       "    <tr>\n",
       "      <th>17</th>\n",
       "      <td>Herberto</td>\n",
       "      <td>Masculino</td>\n",
       "      <td>Casado(a)</td>\n",
       "      <td>28</td>\n",
       "      <td>3</td>\n",
       "      <td>2391</td>\n",
       "      <td>No</td>\n",
       "      <td>Servicios al cliente</td>\n",
       "    </tr>\n",
       "    <tr>\n",
       "      <th>18</th>\n",
       "      <td>Lilia</td>\n",
       "      <td>Femenino</td>\n",
       "      <td>Divorciado(a)</td>\n",
       "      <td>42</td>\n",
       "      <td>16</td>\n",
       "      <td>3796</td>\n",
       "      <td>No</td>\n",
       "      <td>Ventas</td>\n",
       "    </tr>\n",
       "    <tr>\n",
       "      <th>19</th>\n",
       "      <td>Agustina</td>\n",
       "      <td>Femenino</td>\n",
       "      <td>Casado(a)</td>\n",
       "      <td>21</td>\n",
       "      <td>3</td>\n",
       "      <td>2371</td>\n",
       "      <td>No</td>\n",
       "      <td>Servicios al cliente</td>\n",
       "    </tr>\n",
       "  </tbody>\n",
       "</table>\n",
       "</div>"
      ],
      "text/plain": [
       "       Nombre       Sexo   Estado_Civil  Edad  Experiencia  Salario Gerencia   \n",
       "0   Alexandro  Masculino     Soltero(a)    22            3     2423       No  \\\n",
       "1      Felipa   Femenino     Soltero(a)    26            5     2639       No   \n",
       "2      Daniel  Masculino      Casado(a)    35           10     3122       No   \n",
       "3        John  Masculino      Casado(a)    35           13     3431       Sí   \n",
       "4     Ruperta   Femenino      Casado(a)    54           18     3962       No   \n",
       "5   Francisca   Femenino     Soltero(a)    27            4     2564       No   \n",
       "6      Selena   Femenino      Casado(a)    24            6     2709       Sí   \n",
       "7      Ximena   Femenino     Soltero(a)    58           24     4532       No   \n",
       "8       David  Masculino  Divorciado(a)    20            1     1977       No   \n",
       "9         Max  Masculino  Divorciado(a)    39            8     2953       No   \n",
       "10      Paula   Femenino  Divorciado(a)    55           12     3306       No   \n",
       "11        Tim  Masculino  Divorciado(a)    22            4     2518       No   \n",
       "12     Gloria   Femenino      Casado(a)    31           11     3267       No   \n",
       "13      Jesse  Masculino     Soltero(a)    34           11     3257       No   \n",
       "14     Ronald  Masculino     Soltero(a)    23            5     2695       No   \n",
       "15     Manola   Femenino     Soltero(a)    40            9     3023       No   \n",
       "16    Isabela   Femenino      Casado(a)    66           12     3344       No   \n",
       "17   Herberto  Masculino      Casado(a)    28            3     2391       No   \n",
       "18      Lilia   Femenino  Divorciado(a)    42           16     3796       No   \n",
       "19   Agustina   Femenino      Casado(a)    21            3     2371       No   \n",
       "\n",
       "            Departamento  \n",
       "0             Publicidad  \n",
       "1              Comercial  \n",
       "2              Comercial  \n",
       "3   Servicios al cliente  \n",
       "4               Producto  \n",
       "5                     IT  \n",
       "6           Contabilidad  \n",
       "7                  Legal  \n",
       "8       Recursos Humanos  \n",
       "9                 Ventas  \n",
       "10              Producto  \n",
       "11      Recursos Humanos  \n",
       "12  Servicios al cliente  \n",
       "13            Publicidad  \n",
       "14  Servicios al cliente  \n",
       "15                    IT  \n",
       "16          Contabilidad  \n",
       "17  Servicios al cliente  \n",
       "18                Ventas  \n",
       "19  Servicios al cliente  "
      ]
     },
     "execution_count": 5,
     "metadata": {},
     "output_type": "execute_result"
    }
   ],
   "source": [
    "df.head(20)"
   ]
  },
  {
   "cell_type": "code",
   "execution_count": 8,
   "metadata": {
    "tags": []
   },
   "outputs": [
    {
     "data": {
      "text/plain": [
       "0.9921693470596846"
      ]
     },
     "execution_count": 8,
     "metadata": {},
     "output_type": "execute_result"
    }
   ],
   "source": [
    "df['Experiencia'].corr(df['Salario'])"
   ]
  },
  {
   "cell_type": "code",
   "execution_count": 9,
   "metadata": {
    "tags": []
   },
   "outputs": [
    {
     "name": "stdout",
     "output_type": "stream",
     "text": [
      "<class 'pandas.core.frame.DataFrame'>\n",
      "RangeIndex: 143 entries, 0 to 142\n",
      "Data columns (total 8 columns):\n",
      " #   Column        Non-Null Count  Dtype \n",
      "---  ------        --------------  ----- \n",
      " 0   Nombre        143 non-null    object\n",
      " 1   Sexo          143 non-null    object\n",
      " 2   Estado_Civil  143 non-null    object\n",
      " 3   Edad          143 non-null    int64 \n",
      " 4   Experiencia   143 non-null    int64 \n",
      " 5   Salario       143 non-null    int64 \n",
      " 6   Gerencia      143 non-null    object\n",
      " 7   Departamento  143 non-null    object\n",
      "dtypes: int64(3), object(5)\n",
      "memory usage: 9.1+ KB\n"
     ]
    }
   ],
   "source": [
    "df.info()"
   ]
  },
  {
   "cell_type": "code",
   "execution_count": 11,
   "metadata": {
    "tags": []
   },
   "outputs": [
    {
     "data": {
      "text/html": [
       "<div>\n",
       "<style scoped>\n",
       "    .dataframe tbody tr th:only-of-type {\n",
       "        vertical-align: middle;\n",
       "    }\n",
       "\n",
       "    .dataframe tbody tr th {\n",
       "        vertical-align: top;\n",
       "    }\n",
       "\n",
       "    .dataframe thead th {\n",
       "        text-align: right;\n",
       "    }\n",
       "</style>\n",
       "<table border=\"1\" class=\"dataframe\">\n",
       "  <thead>\n",
       "    <tr style=\"text-align: right;\">\n",
       "      <th></th>\n",
       "      <th>Edad</th>\n",
       "      <th>Experiencia</th>\n",
       "      <th>Salario</th>\n",
       "    </tr>\n",
       "  </thead>\n",
       "  <tbody>\n",
       "    <tr>\n",
       "      <th>Edad</th>\n",
       "      <td>1.000000</td>\n",
       "      <td>0.742730</td>\n",
       "      <td>0.743366</td>\n",
       "    </tr>\n",
       "    <tr>\n",
       "      <th>Experiencia</th>\n",
       "      <td>0.742730</td>\n",
       "      <td>1.000000</td>\n",
       "      <td>0.992169</td>\n",
       "    </tr>\n",
       "    <tr>\n",
       "      <th>Salario</th>\n",
       "      <td>0.743366</td>\n",
       "      <td>0.992169</td>\n",
       "      <td>1.000000</td>\n",
       "    </tr>\n",
       "  </tbody>\n",
       "</table>\n",
       "</div>"
      ],
      "text/plain": [
       "                 Edad  Experiencia   Salario\n",
       "Edad         1.000000     0.742730  0.743366\n",
       "Experiencia  0.742730     1.000000  0.992169\n",
       "Salario      0.743366     0.992169  1.000000"
      ]
     },
     "execution_count": 11,
     "metadata": {},
     "output_type": "execute_result"
    }
   ],
   "source": [
    "df.corr(numeric_only=True)"
   ]
  },
  {
   "cell_type": "code",
   "execution_count": 13,
   "metadata": {
    "tags": []
   },
   "outputs": [
    {
     "data": {
      "text/plain": [
       "<Axes: >"
      ]
     },
     "execution_count": 13,
     "metadata": {},
     "output_type": "execute_result"
    },
    {
     "data": {
      "image/png": "[encoded data removed]",
      "text/plain": [
       "<Figure size 640x480 with 2 Axes>"
      ]
     },
     "metadata": {},
     "output_type": "display_data"
    }
   ],
   "source": [
    "sns.heatmap(df.corr(numeric_only=True), vmax=1, vmin=-1, annot=True)"
   ]
  }
 ],
 "metadata": {
  "kernelspec": {
   "display_name": "Python 3 (ipykernel)",
   "language": "python",
   "name": "python3"
  },
  "language_info": {
   "codemirror_mode": {
    "name": "ipython",
    "version": 3
   },
   "file_extension": ".py",
   "mimetype": "text/x-python",
   "name": "python",
   "nbconvert_exporter": "python",
   "pygments_lexer": "ipython3",
   "version": "3.11.2"
  },
  "vscode": {
   "interpreter": {
    "hash": "1ee38ef4a5a9feb55287fd749643f13d043cb0a7addaab2a9c224cbe137c0062"
   }
  }
 },
 "nbformat": 4,
 "nbformat_minor": 4
}
