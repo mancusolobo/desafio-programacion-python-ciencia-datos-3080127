{
 "cells": [
  {
   "cell_type": "code",
   "execution_count": 1,
   "metadata": {
    "tags": []
   },
   "outputs": [],
   "source": [
    "import pandas as pd"
   ]
  },
  {
   "cell_type": "code",
   "execution_count": 2,
   "metadata": {
    "tags": []
   },
   "outputs": [],
   "source": [
    "df = pd.read_csv('empleados.csv', delimiter=\";\")"
   ]
  },
  {
   "cell_type": "code",
   "execution_count": 3,
   "metadata": {
    "tags": []
   },
   "outputs": [
    {
     "data": {
      "text/html": [
       "<div>\n",
       "<style scoped>\n",
       "    .dataframe tbody tr th:only-of-type {\n",
       "        vertical-align: middle;\n",
       "    }\n",
       "\n",
       "    .dataframe tbody tr th {\n",
       "        vertical-align: top;\n",
       "    }\n",
       "\n",
       "    .dataframe thead th {\n",
       "        text-align: right;\n",
       "    }\n",
       "</style>\n",
       "<table border=\"1\" class=\"dataframe\">\n",
       "  <thead>\n",
       "    <tr style=\"text-align: right;\">\n",
       "      <th></th>\n",
       "      <th>Nombre</th>\n",
       "      <th>Sexo</th>\n",
       "      <th>Estado_Civil</th>\n",
       "      <th>Edad</th>\n",
       "      <th>Experiencia</th>\n",
       "      <th>Salario</th>\n",
       "      <th>Gerencia</th>\n",
       "      <th>Departamento</th>\n",
       "    </tr>\n",
       "  </thead>\n",
       "  <tbody>\n",
       "    <tr>\n",
       "      <th>0</th>\n",
       "      <td>Alexandro</td>\n",
       "      <td>Masculino</td>\n",
       "      <td>Soltero(a)</td>\n",
       "      <td>22.0</td>\n",
       "      <td>3</td>\n",
       "      <td>2423</td>\n",
       "      <td>No</td>\n",
       "      <td>Publicidad</td>\n",
       "    </tr>\n",
       "    <tr>\n",
       "      <th>1</th>\n",
       "      <td>Felipa</td>\n",
       "      <td>Femenino</td>\n",
       "      <td>Soltero(a)</td>\n",
       "      <td>26.0</td>\n",
       "      <td>5</td>\n",
       "      <td>2639</td>\n",
       "      <td>No</td>\n",
       "      <td>Comercial</td>\n",
       "    </tr>\n",
       "    <tr>\n",
       "      <th>2</th>\n",
       "      <td>Daniel</td>\n",
       "      <td>Masculino</td>\n",
       "      <td>Casado(a)</td>\n",
       "      <td>35.0</td>\n",
       "      <td>10</td>\n",
       "      <td>3122</td>\n",
       "      <td>No</td>\n",
       "      <td>Comercial</td>\n",
       "    </tr>\n",
       "    <tr>\n",
       "      <th>3</th>\n",
       "      <td>John</td>\n",
       "      <td>Masculino</td>\n",
       "      <td>Casado(a)</td>\n",
       "      <td>35.0</td>\n",
       "      <td>13</td>\n",
       "      <td>3431</td>\n",
       "      <td>Sí</td>\n",
       "      <td>Servicios al cliente</td>\n",
       "    </tr>\n",
       "    <tr>\n",
       "      <th>4</th>\n",
       "      <td>Ruperta</td>\n",
       "      <td>Femenino</td>\n",
       "      <td>Casado(a)</td>\n",
       "      <td>54.0</td>\n",
       "      <td>18</td>\n",
       "      <td>3962</td>\n",
       "      <td>No</td>\n",
       "      <td>Producto</td>\n",
       "    </tr>\n",
       "  </tbody>\n",
       "</table>\n",
       "</div>"
      ],
      "text/plain": [
       "      Nombre       Sexo Estado_Civil  Edad  Experiencia  Salario Gerencia   \n",
       "0  Alexandro  Masculino   Soltero(a)  22.0            3     2423       No  \\\n",
       "1     Felipa   Femenino   Soltero(a)  26.0            5     2639       No   \n",
       "2     Daniel  Masculino    Casado(a)  35.0           10     3122       No   \n",
       "3       John  Masculino    Casado(a)  35.0           13     3431       Sí   \n",
       "4    Ruperta   Femenino    Casado(a)  54.0           18     3962       No   \n",
       "\n",
       "           Departamento  \n",
       "0            Publicidad  \n",
       "1             Comercial  \n",
       "2             Comercial  \n",
       "3  Servicios al cliente  \n",
       "4              Producto  "
      ]
     },
     "execution_count": 3,
     "metadata": {},
     "output_type": "execute_result"
    }
   ],
   "source": [
    "df.head()"
   ]
  },
  {
   "cell_type": "code",
   "execution_count": 4,
   "metadata": {
    "tags": []
   },
   "outputs": [
    {
     "data": {
      "text/plain": [
       "Nombre           0\n",
       "Sexo             0\n",
       "Estado_Civil     0\n",
       "Edad            46\n",
       "Experiencia      0\n",
       "Salario          0\n",
       "Gerencia         0\n",
       "Departamento     0\n",
       "dtype: int64"
      ]
     },
     "execution_count": 4,
     "metadata": {},
     "output_type": "execute_result"
    }
   ],
   "source": [
    "df.isnull().sum()"
   ]
  },
  {
   "cell_type": "code",
   "execution_count": 5,
   "metadata": {
    "tags": []
   },
   "outputs": [
    {
     "data": {
      "text/plain": [
       "33.86896551724138"
      ]
     },
     "execution_count": 5,
     "metadata": {},
     "output_type": "execute_result"
    }
   ],
   "source": [
    "df['Edad'].mean()"
   ]
  },
  {
   "cell_type": "code",
   "execution_count": 7,
   "metadata": {
    "tags": []
   },
   "outputs": [
    {
     "name": "stdout",
     "output_type": "stream",
     "text": [
      "<class 'pandas.core.frame.DataFrame'>\n",
      "RangeIndex: 191 entries, 0 to 190\n",
      "Data columns (total 8 columns):\n",
      " #   Column        Non-Null Count  Dtype  \n",
      "---  ------        --------------  -----  \n",
      " 0   Nombre        191 non-null    object \n",
      " 1   Sexo          191 non-null    object \n",
      " 2   Estado_Civil  191 non-null    object \n",
      " 3   Edad          145 non-null    float64\n",
      " 4   Experiencia   191 non-null    int64  \n",
      " 5   Salario       191 non-null    int64  \n",
      " 6   Gerencia      191 non-null    object \n",
      " 7   Departamento  191 non-null    object \n",
      "dtypes: float64(1), int64(2), object(5)\n",
      "memory usage: 12.1+ KB\n"
     ]
    }
   ],
   "source": [
    "df.info()"
   ]
  },
  {
   "cell_type": "code",
   "execution_count": 8,
   "metadata": {
    "tags": []
   },
   "outputs": [],
   "source": [
    "df['Edad'].fillna(inplace=True, value=df['Edad'].mean())"
   ]
  },
  {
   "cell_type": "code",
   "execution_count": 9,
   "metadata": {
    "tags": []
   },
   "outputs": [
    {
     "name": "stdout",
     "output_type": "stream",
     "text": [
      "<class 'pandas.core.frame.DataFrame'>\n",
      "RangeIndex: 191 entries, 0 to 190\n",
      "Data columns (total 8 columns):\n",
      " #   Column        Non-Null Count  Dtype  \n",
      "---  ------        --------------  -----  \n",
      " 0   Nombre        191 non-null    object \n",
      " 1   Sexo          191 non-null    object \n",
      " 2   Estado_Civil  191 non-null    object \n",
      " 3   Edad          191 non-null    float64\n",
      " 4   Experiencia   191 non-null    int64  \n",
      " 5   Salario       191 non-null    int64  \n",
      " 6   Gerencia      191 non-null    object \n",
      " 7   Departamento  191 non-null    object \n",
      "dtypes: float64(1), int64(2), object(5)\n",
      "memory usage: 12.1+ KB\n"
     ]
    }
   ],
   "source": [
    "df.info()"
   ]
  },
  {
   "cell_type": "code",
   "execution_count": 11,
   "metadata": {
    "tags": []
   },
   "outputs": [
    {
     "data": {
      "text/html": [
       "<div>\n",
       "<style scoped>\n",
       "    .dataframe tbody tr th:only-of-type {\n",
       "        vertical-align: middle;\n",
       "    }\n",
       "\n",
       "    .dataframe tbody tr th {\n",
       "        vertical-align: top;\n",
       "    }\n",
       "\n",
       "    .dataframe thead th {\n",
       "        text-align: right;\n",
       "    }\n",
       "</style>\n",
       "<table border=\"1\" class=\"dataframe\">\n",
       "  <thead>\n",
       "    <tr style=\"text-align: right;\">\n",
       "      <th></th>\n",
       "      <th>Nombre</th>\n",
       "      <th>Sexo</th>\n",
       "      <th>Estado_Civil</th>\n",
       "      <th>Edad</th>\n",
       "      <th>Experiencia</th>\n",
       "      <th>Salario</th>\n",
       "      <th>Gerencia</th>\n",
       "      <th>Departamento</th>\n",
       "    </tr>\n",
       "  </thead>\n",
       "  <tbody>\n",
       "    <tr>\n",
       "      <th>0</th>\n",
       "      <td>Alexandro</td>\n",
       "      <td>Masculino</td>\n",
       "      <td>Soltero(a)</td>\n",
       "      <td>22.0</td>\n",
       "      <td>3</td>\n",
       "      <td>2423</td>\n",
       "      <td>No</td>\n",
       "      <td>Publicidad</td>\n",
       "    </tr>\n",
       "    <tr>\n",
       "      <th>1</th>\n",
       "      <td>Felipa</td>\n",
       "      <td>Femenino</td>\n",
       "      <td>Soltero(a)</td>\n",
       "      <td>26.0</td>\n",
       "      <td>5</td>\n",
       "      <td>2639</td>\n",
       "      <td>No</td>\n",
       "      <td>Comercial</td>\n",
       "    </tr>\n",
       "    <tr>\n",
       "      <th>2</th>\n",
       "      <td>Daniel</td>\n",
       "      <td>Masculino</td>\n",
       "      <td>Casado(a)</td>\n",
       "      <td>35.0</td>\n",
       "      <td>10</td>\n",
       "      <td>3122</td>\n",
       "      <td>No</td>\n",
       "      <td>Comercial</td>\n",
       "    </tr>\n",
       "    <tr>\n",
       "      <th>3</th>\n",
       "      <td>John</td>\n",
       "      <td>Masculino</td>\n",
       "      <td>Casado(a)</td>\n",
       "      <td>35.0</td>\n",
       "      <td>13</td>\n",
       "      <td>3431</td>\n",
       "      <td>Sí</td>\n",
       "      <td>Servicios al cliente</td>\n",
       "    </tr>\n",
       "    <tr>\n",
       "      <th>4</th>\n",
       "      <td>Ruperta</td>\n",
       "      <td>Femenino</td>\n",
       "      <td>Casado(a)</td>\n",
       "      <td>54.0</td>\n",
       "      <td>18</td>\n",
       "      <td>3962</td>\n",
       "      <td>No</td>\n",
       "      <td>Producto</td>\n",
       "    </tr>\n",
       "  </tbody>\n",
       "</table>\n",
       "</div>"
      ],
      "text/plain": [
       "      Nombre       Sexo Estado_Civil  Edad  Experiencia  Salario Gerencia   \n",
       "0  Alexandro  Masculino   Soltero(a)  22.0            3     2423       No  \\\n",
       "1     Felipa   Femenino   Soltero(a)  26.0            5     2639       No   \n",
       "2     Daniel  Masculino    Casado(a)  35.0           10     3122       No   \n",
       "3       John  Masculino    Casado(a)  35.0           13     3431       Sí   \n",
       "4    Ruperta   Femenino    Casado(a)  54.0           18     3962       No   \n",
       "\n",
       "           Departamento  \n",
       "0            Publicidad  \n",
       "1             Comercial  \n",
       "2             Comercial  \n",
       "3  Servicios al cliente  \n",
       "4              Producto  "
      ]
     },
     "execution_count": 11,
     "metadata": {},
     "output_type": "execute_result"
    }
   ],
   "source": [
    "df.head()"
   ]
  },
  {
   "cell_type": "code",
   "execution_count": 12,
   "metadata": {
    "tags": []
   },
   "outputs": [
    {
     "data": {
      "text/plain": [
       "Nombre          0\n",
       "Sexo            0\n",
       "Estado_Civil    0\n",
       "Edad            0\n",
       "Experiencia     0\n",
       "Salario         0\n",
       "Gerencia        0\n",
       "Departamento    0\n",
       "dtype: int64"
      ]
     },
     "execution_count": 12,
     "metadata": {},
     "output_type": "execute_result"
    }
   ],
   "source": [
    "df.isnull().sum()"
   ]
  }
 ],
 "metadata": {
  "kernelspec": {
   "display_name": "Python 3 (ipykernel)",
   "language": "python",
   "name": "python3"
  },
  "language_info": {
   "codemirror_mode": {
    "name": "ipython",
    "version": 3
   },
   "file_extension": ".py",
   "mimetype": "text/x-python",
   "name": "python",
   "nbconvert_exporter": "python",
   "pygments_lexer": "ipython3",
   "version": "3.11.2"
  },
  "vscode": {
   "interpreter": {
    "hash": "1ee38ef4a5a9feb55287fd749643f13d043cb0a7addaab2a9c224cbe137c0062"
   }
  }
 },
 "nbformat": 4,
 "nbformat_minor": 4
}
