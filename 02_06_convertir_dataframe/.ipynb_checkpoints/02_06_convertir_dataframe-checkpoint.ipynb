{
 "cells": [
  {
   "cell_type": "code",
   "execution_count": 1,
   "metadata": {
    "tags": []
   },
   "outputs": [],
   "source": [
    "import numpy as np"
   ]
  },
  {
   "cell_type": "code",
   "execution_count": 4,
   "metadata": {
    "tags": []
   },
   "outputs": [],
   "source": [
    "import pandas as pd"
   ]
  },
  {
   "cell_type": "code",
   "execution_count": 2,
   "metadata": {
    "tags": []
   },
   "outputs": [],
   "source": [
    "emisiones = np.array(\n",
    "[['Motor', 'Cilindros', 'Consumo Ciudad', 'Consumo Carretera', 'CO2'],\n",
    "[2,4,13.7,9.4,382],\n",
    "[4.3,4,14.3,9,347],\n",
    "[4,4,9.5,8.5,327],\n",
    "[4.4,6,18.4,7.1,377],\n",
    "[2.7,6,13.7,9.3,294],\n",
    "[3.1,6,19.4,6.4,297],\n",
    "[4,4,9.6,13.3,313],\n",
    "[1.8,6,11.5,18,207],\n",
    "[6.3,4,11.6,9.6,253],\n",
    "[5,6,11.3,9.7,269],\n",
    "[2.8,8,13.1,10,235],\n",
    "[2.2,8,13.2,10.6,235],\n",
    "[2.8,8,13.3,6.9,307],\n",
    "[4,8,11.9,6.7,354],\n",
    "[4,8,12.9,5.7,337],\n",
    "[3.9,8,12.6,5.8,368],\n",
    "[3.8,6,13.1,6.1,327],\n",
    "[4,6,12.8,5.9,205],\n",
    "[5,6,13.3,6.5,193],\n",
    "[6.7,6,19.7,6.1,207],\n",
    "[4,6,16.7,5.9,209],\n",
    "[2.9,8,19.7,8.4,200],\n",
    "[2.7,8,16.7,8.3,193],\n",
    "[3.1,4,10,9.6,235],\n",
    "[3.6,4,11.5,10.2,239],\n",
    "[3.9,4,9.3,11.2,230],\n",
    "[2.1,4,12.2,7.2,278]])"
   ]
  },
  {
   "cell_type": "code",
   "execution_count": 12,
   "metadata": {
    "tags": []
   },
   "outputs": [],
   "source": [
    "df = pd.DataFrame(emisiones, columns=emisiones[0])"
   ]
  },
  {
   "cell_type": "code",
   "execution_count": 13,
   "metadata": {
    "tags": []
   },
   "outputs": [
    {
     "data": {
      "text/plain": [
       "array(['Motor', 'Cilindros', 'Consumo Ciudad', 'Consumo Carretera', 'CO2'],\n",
       "      dtype='<U32')"
      ]
     },
     "execution_count": 13,
     "metadata": {},
     "output_type": "execute_result"
    }
   ],
   "source": [
    "emisiones[0]"
   ]
  },
  {
   "cell_type": "code",
   "execution_count": 19,
   "metadata": {
    "tags": []
   },
   "outputs": [],
   "source": [
    "df = df.drop(0).reset_index(drop=True)"
   ]
  },
  {
   "cell_type": "code",
   "execution_count": 20,
   "metadata": {
    "tags": []
   },
   "outputs": [
    {
     "data": {
      "text/html": [
       "<div>\n",
       "<style scoped>\n",
       "    .dataframe tbody tr th:only-of-type {\n",
       "        vertical-align: middle;\n",
       "    }\n",
       "\n",
       "    .dataframe tbody tr th {\n",
       "        vertical-align: top;\n",
       "    }\n",
       "\n",
       "    .dataframe thead th {\n",
       "        text-align: right;\n",
       "    }\n",
       "</style>\n",
       "<table border=\"1\" class=\"dataframe\">\n",
       "  <thead>\n",
       "    <tr style=\"text-align: right;\">\n",
       "      <th></th>\n",
       "      <th>Motor</th>\n",
       "      <th>Cilindros</th>\n",
       "      <th>Consumo Ciudad</th>\n",
       "      <th>Consumo Carretera</th>\n",
       "      <th>CO2</th>\n",
       "    </tr>\n",
       "  </thead>\n",
       "  <tbody>\n",
       "    <tr>\n",
       "      <th>0</th>\n",
       "      <td>4.3</td>\n",
       "      <td>4</td>\n",
       "      <td>14.3</td>\n",
       "      <td>9</td>\n",
       "      <td>347</td>\n",
       "    </tr>\n",
       "    <tr>\n",
       "      <th>1</th>\n",
       "      <td>4</td>\n",
       "      <td>4</td>\n",
       "      <td>9.5</td>\n",
       "      <td>8.5</td>\n",
       "      <td>327</td>\n",
       "    </tr>\n",
       "    <tr>\n",
       "      <th>2</th>\n",
       "      <td>4.4</td>\n",
       "      <td>6</td>\n",
       "      <td>18.4</td>\n",
       "      <td>7.1</td>\n",
       "      <td>377</td>\n",
       "    </tr>\n",
       "    <tr>\n",
       "      <th>3</th>\n",
       "      <td>2.7</td>\n",
       "      <td>6</td>\n",
       "      <td>13.7</td>\n",
       "      <td>9.3</td>\n",
       "      <td>294</td>\n",
       "    </tr>\n",
       "  </tbody>\n",
       "</table>\n",
       "</div>"
      ],
      "text/plain": [
       "  Motor Cilindros Consumo Ciudad Consumo Carretera  CO2\n",
       "0   4.3         4           14.3                 9  347\n",
       "1     4         4            9.5               8.5  327\n",
       "2   4.4         6           18.4               7.1  377\n",
       "3   2.7         6           13.7               9.3  294"
      ]
     },
     "execution_count": 20,
     "metadata": {},
     "output_type": "execute_result"
    }
   ],
   "source": [
    "df.head()"
   ]
  },
  {
   "cell_type": "code",
   "execution_count": 21,
   "metadata": {
    "tags": []
   },
   "outputs": [
    {
     "name": "stdout",
     "output_type": "stream",
     "text": [
      "<class 'pandas.core.frame.DataFrame'>\n",
      "RangeIndex: 4 entries, 0 to 3\n",
      "Data columns (total 5 columns):\n",
      " #   Column             Non-Null Count  Dtype \n",
      "---  ------             --------------  ----- \n",
      " 0   Motor              4 non-null      object\n",
      " 1   Cilindros          4 non-null      object\n",
      " 2   Consumo Ciudad     4 non-null      object\n",
      " 3   Consumo Carretera  4 non-null      object\n",
      " 4   CO2                4 non-null      object\n",
      "dtypes: object(5)\n",
      "memory usage: 292.0+ bytes\n"
     ]
    }
   ],
   "source": [
    "df.info()"
   ]
  },
  {
   "cell_type": "code",
   "execution_count": 24,
   "metadata": {
    "tags": []
   },
   "outputs": [],
   "source": [
    "df = df.astype(float)"
   ]
  },
  {
   "cell_type": "code",
   "execution_count": 25,
   "metadata": {
    "tags": []
   },
   "outputs": [
    {
     "name": "stdout",
     "output_type": "stream",
     "text": [
      "<class 'pandas.core.frame.DataFrame'>\n",
      "RangeIndex: 4 entries, 0 to 3\n",
      "Data columns (total 5 columns):\n",
      " #   Column             Non-Null Count  Dtype  \n",
      "---  ------             --------------  -----  \n",
      " 0   Motor              4 non-null      float64\n",
      " 1   Cilindros          4 non-null      float64\n",
      " 2   Consumo Ciudad     4 non-null      float64\n",
      " 3   Consumo Carretera  4 non-null      float64\n",
      " 4   CO2                4 non-null      float64\n",
      "dtypes: float64(5)\n",
      "memory usage: 292.0 bytes\n"
     ]
    }
   ],
   "source": [
    "df.info()"
   ]
  },
  {
   "cell_type": "code",
   "execution_count": 26,
   "metadata": {
    "tags": []
   },
   "outputs": [
    {
     "data": {
      "text/html": [
       "<div>\n",
       "<style scoped>\n",
       "    .dataframe tbody tr th:only-of-type {\n",
       "        vertical-align: middle;\n",
       "    }\n",
       "\n",
       "    .dataframe tbody tr th {\n",
       "        vertical-align: top;\n",
       "    }\n",
       "\n",
       "    .dataframe thead th {\n",
       "        text-align: right;\n",
       "    }\n",
       "</style>\n",
       "<table border=\"1\" class=\"dataframe\">\n",
       "  <thead>\n",
       "    <tr style=\"text-align: right;\">\n",
       "      <th></th>\n",
       "      <th>Motor</th>\n",
       "      <th>Cilindros</th>\n",
       "      <th>Consumo Ciudad</th>\n",
       "      <th>Consumo Carretera</th>\n",
       "      <th>CO2</th>\n",
       "    </tr>\n",
       "  </thead>\n",
       "  <tbody>\n",
       "    <tr>\n",
       "      <th>0</th>\n",
       "      <td>4.3</td>\n",
       "      <td>4.0</td>\n",
       "      <td>14.3</td>\n",
       "      <td>9.0</td>\n",
       "      <td>347.0</td>\n",
       "    </tr>\n",
       "    <tr>\n",
       "      <th>1</th>\n",
       "      <td>4.0</td>\n",
       "      <td>4.0</td>\n",
       "      <td>9.5</td>\n",
       "      <td>8.5</td>\n",
       "      <td>327.0</td>\n",
       "    </tr>\n",
       "    <tr>\n",
       "      <th>2</th>\n",
       "      <td>4.4</td>\n",
       "      <td>6.0</td>\n",
       "      <td>18.4</td>\n",
       "      <td>7.1</td>\n",
       "      <td>377.0</td>\n",
       "    </tr>\n",
       "    <tr>\n",
       "      <th>3</th>\n",
       "      <td>2.7</td>\n",
       "      <td>6.0</td>\n",
       "      <td>13.7</td>\n",
       "      <td>9.3</td>\n",
       "      <td>294.0</td>\n",
       "    </tr>\n",
       "  </tbody>\n",
       "</table>\n",
       "</div>"
      ],
      "text/plain": [
       "   Motor  Cilindros  Consumo Ciudad  Consumo Carretera    CO2\n",
       "0    4.3        4.0            14.3                9.0  347.0\n",
       "1    4.0        4.0             9.5                8.5  327.0\n",
       "2    4.4        6.0            18.4                7.1  377.0\n",
       "3    2.7        6.0            13.7                9.3  294.0"
      ]
     },
     "execution_count": 26,
     "metadata": {},
     "output_type": "execute_result"
    }
   ],
   "source": [
    "df.head()"
   ]
  },
  {
   "cell_type": "code",
   "execution_count": 27,
   "metadata": {
    "tags": []
   },
   "outputs": [],
   "source": [
    "np_df = np.delete(emisiones, 0, axis=0)"
   ]
  },
  {
   "cell_type": "code",
   "execution_count": 28,
   "metadata": {
    "tags": []
   },
   "outputs": [
    {
     "data": {
      "text/plain": [
       "array([['2', '4', '13.7', '9.4', '382'],\n",
       "       ['4.3', '4', '14.3', '9', '347'],\n",
       "       ['4', '4', '9.5', '8.5', '327'],\n",
       "       ['4.4', '6', '18.4', '7.1', '377'],\n",
       "       ['2.7', '6', '13.7', '9.3', '294'],\n",
       "       ['3.1', '6', '19.4', '6.4', '297'],\n",
       "       ['4', '4', '9.6', '13.3', '313'],\n",
       "       ['1.8', '6', '11.5', '18', '207'],\n",
       "       ['6.3', '4', '11.6', '9.6', '253'],\n",
       "       ['5', '6', '11.3', '9.7', '269'],\n",
       "       ['2.8', '8', '13.1', '10', '235'],\n",
       "       ['2.2', '8', '13.2', '10.6', '235'],\n",
       "       ['2.8', '8', '13.3', '6.9', '307'],\n",
       "       ['4', '8', '11.9', '6.7', '354'],\n",
       "       ['4', '8', '12.9', '5.7', '337'],\n",
       "       ['3.9', '8', '12.6', '5.8', '368'],\n",
       "       ['3.8', '6', '13.1', '6.1', '327'],\n",
       "       ['4', '6', '12.8', '5.9', '205'],\n",
       "       ['5', '6', '13.3', '6.5', '193'],\n",
       "       ['6.7', '6', '19.7', '6.1', '207'],\n",
       "       ['4', '6', '16.7', '5.9', '209'],\n",
       "       ['2.9', '8', '19.7', '8.4', '200'],\n",
       "       ['2.7', '8', '16.7', '8.3', '193'],\n",
       "       ['3.1', '4', '10', '9.6', '235'],\n",
       "       ['3.6', '4', '11.5', '10.2', '239'],\n",
       "       ['3.9', '4', '9.3', '11.2', '230'],\n",
       "       ['2.1', '4', '12.2', '7.2', '278']], dtype='<U32')"
      ]
     },
     "execution_count": 28,
     "metadata": {},
     "output_type": "execute_result"
    }
   ],
   "source": [
    "np_df"
   ]
  },
  {
   "cell_type": "code",
   "execution_count": 29,
   "metadata": {
    "tags": []
   },
   "outputs": [],
   "source": [
    "np_df = np_df.astype(float)"
   ]
  },
  {
   "cell_type": "code",
   "execution_count": 30,
   "metadata": {
    "tags": []
   },
   "outputs": [
    {
     "data": {
      "text/plain": [
       "array([[  2. ,   4. ,  13.7,   9.4, 382. ],\n",
       "       [  4.3,   4. ,  14.3,   9. , 347. ],\n",
       "       [  4. ,   4. ,   9.5,   8.5, 327. ],\n",
       "       [  4.4,   6. ,  18.4,   7.1, 377. ],\n",
       "       [  2.7,   6. ,  13.7,   9.3, 294. ],\n",
       "       [  3.1,   6. ,  19.4,   6.4, 297. ],\n",
       "       [  4. ,   4. ,   9.6,  13.3, 313. ],\n",
       "       [  1.8,   6. ,  11.5,  18. , 207. ],\n",
       "       [  6.3,   4. ,  11.6,   9.6, 253. ],\n",
       "       [  5. ,   6. ,  11.3,   9.7, 269. ],\n",
       "       [  2.8,   8. ,  13.1,  10. , 235. ],\n",
       "       [  2.2,   8. ,  13.2,  10.6, 235. ],\n",
       "       [  2.8,   8. ,  13.3,   6.9, 307. ],\n",
       "       [  4. ,   8. ,  11.9,   6.7, 354. ],\n",
       "       [  4. ,   8. ,  12.9,   5.7, 337. ],\n",
       "       [  3.9,   8. ,  12.6,   5.8, 368. ],\n",
       "       [  3.8,   6. ,  13.1,   6.1, 327. ],\n",
       "       [  4. ,   6. ,  12.8,   5.9, 205. ],\n",
       "       [  5. ,   6. ,  13.3,   6.5, 193. ],\n",
       "       [  6.7,   6. ,  19.7,   6.1, 207. ],\n",
       "       [  4. ,   6. ,  16.7,   5.9, 209. ],\n",
       "       [  2.9,   8. ,  19.7,   8.4, 200. ],\n",
       "       [  2.7,   8. ,  16.7,   8.3, 193. ],\n",
       "       [  3.1,   4. ,  10. ,   9.6, 235. ],\n",
       "       [  3.6,   4. ,  11.5,  10.2, 239. ],\n",
       "       [  3.9,   4. ,   9.3,  11.2, 230. ],\n",
       "       [  2.1,   4. ,  12.2,   7.2, 278. ]])"
      ]
     },
     "execution_count": 30,
     "metadata": {},
     "output_type": "execute_result"
    }
   ],
   "source": [
    "np_df"
   ]
  }
 ],
 "metadata": {
  "kernelspec": {
   "display_name": "Python 3 (ipykernel)",
   "language": "python",
   "name": "python3"
  },
  "language_info": {
   "codemirror_mode": {
    "name": "ipython",
    "version": 3
   },
   "file_extension": ".py",
   "mimetype": "text/x-python",
   "name": "python",
   "nbconvert_exporter": "python",
   "pygments_lexer": "ipython3",
   "version": "3.11.2"
  },
  "vscode": {
   "interpreter": {
    "hash": "1ee38ef4a5a9feb55287fd749643f13d043cb0a7addaab2a9c224cbe137c0062"
   }
  }
 },
 "nbformat": 4,
 "nbformat_minor": 4
}
